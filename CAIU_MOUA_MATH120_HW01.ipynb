{
  "cells": [
    {
      "cell_type": "markdown",
      "metadata": {
        "id": "view-in-github",
        "colab_type": "text"
      },
      "source": [
        "<a href=\"https://colab.research.google.com/github/caiumoua8/M120-Homework-1-/blob/main/CAIU_MOUA_MATH120_HW01.ipynb\" target=\"_parent\"><img src=\"https://colab.research.google.com/assets/colab-badge.svg\" alt=\"Open In Colab\"/></a>"
      ]
    },
    {
      "cell_type": "markdown",
      "metadata": {
        "id": "URrSc8W97wYL"
      },
      "source": [
        "# MATH 120 - Homework 01"
      ]
    },
    {
      "cell_type": "markdown",
      "metadata": {
        "id": "IZJU1UH-7wYN"
      },
      "source": [
        "**Name:**\n",
        "\n",
        "**Collaborators:**"
      ]
    },
    {
      "cell_type": "markdown",
      "metadata": {
        "id": "M7Ob55rv7wYN"
      },
      "source": [
        "**Instructions:** Please submit a Google Colab notebook link answering the following parts.\n",
        "\n",
        "This homework is due **Friday, Aug.29 by 11:59PM**\n",
        "\n",
        "* If you collaborate with someone in the class, note the name on the assignment.\n",
        "\n",
        "---"
      ]
    },
    {
      "cell_type": "code",
      "source": [
        "# This cell tells Jupyter to provide detailed debugging information\n",
        "# when a runtime error occurs. Run it before working on the exercises.\n",
        "\n",
        "%xmode Verbose\n",
        "import math"
      ],
      "metadata": {
        "colab": {
          "base_uri": "https://localhost:8080/"
        },
        "id": "NWV4wUmHAuve",
        "outputId": "5ad0aa50-8549-440f-d891-d247e8900e74"
      },
      "execution_count": 57,
      "outputs": [
        {
          "output_type": "stream",
          "name": "stdout",
          "text": [
            "Exception reporting mode: Verbose\n"
          ]
        }
      ]
    },
    {
      "cell_type": "markdown",
      "metadata": {
        "id": "j97vO-Gc7wYO"
      },
      "source": [
        "## 1 - Ask a LLM"
      ]
    },
    {
      "cell_type": "markdown",
      "metadata": {
        "id": "T7hK-U9M7wYO"
      },
      "source": [
        "As you work through the book, there are several ways you can use a virtual assistant ora  chatbot to help you learn.\n",
        "\n",
        "If you want to learn more about a topic in the chapter, or anything is unclear, you can ask for an explanation.\n",
        "\n",
        "In each chapter, there will be exercises you can do with a virtual assistant, but I encourage you to try things on your own and see what works for you.\n",
        "\n",
        "Here are some topics you could ask a virtual assistant about:\n",
        "\n",
        "Earlier I mentioned bitwise operators but I didn’t explain why the value of 7 ^ 2 is 5.\n",
        "\n",
        "Try asking\n",
        "\n",
        "* “What are the bitwise operators in Python?” or\n",
        "* “What is the value of 7 XOR 2?”\n",
        "\n",
        "and then another question related to one topic we covered in lecture.\n",
        "\n",
        "**NOTE:** Most virtual assistants know about Python, so they answer questions like this pretty reliably. But remember that these tools make mistakes.\n",
        "\n",
        "Be sure to write the prompt, the response, and then your response as well.\n",
        "\n"
      ]
    },
  {
 "cell_type": "markdown",
 "source": [
  "# Bitwise Operators in Python\n",
  "\n",
  "**PROMPT: What are bitwise operators in Python?**\n",
  "\n",
  "**VIRTUAL ASSISTANT ANSWER:**\n",
  "\n",
  "Python provides several bitwise operators for manipulating integers at the binary level:\n",
  "\n",
  "| Operator | Name        | Description |\n",
  "|----------|-------------|-------------|\n",
  "| `&`      | AND         | Sets each bit to 1 if both bits are 1 |\n",
  "| `\\|`     | OR          | Sets each bit to 1 if at least one bit is 1 |\n",
  "| `^`      | XOR         | Sets each bit to 1 if only one of the bits is 1 |\n",
  "| `~`      | NOT         | Inverts all the bits (two’s complement form) |\n",
  "| `<<`     | Left Shift  | Shifts bits to the left, filling with 0s |\n",
  "| `>>`     | Right Shift | Shifts bits to the right, discarding shifted-off bits |\n",
  "\n",
  "**MY RESPONSE:**\n",
  "\n"
 ],
 "metadata": {
  "id": "TKEq8Gb2Blxj"
 }
}

    {
      "cell_type": "markdown",
      "metadata": {
        "id": "FWVqX5qa7wYP"
      },
      "source": [
        "## 2 - Make Misteaks\n"
      ]
    },
    {
      "cell_type": "markdown",
      "metadata": {
        "id": "SDf1lF4X7wYP"
      },
      "source": [
        "When you learn about a new feature, you should try it out and make mistakes on purpose. That way, you learn the error messages, and when you see them again, you will know what they mean. It is better to make mistakes now and deliberately than later and accidentally.\n",
        "\n",
        "* You can use a minus sign to make a negative number like -2. What happens if you put a plus sign before a number? What about `2++2`?\n",
        "\n",
        "* What happens if you have two values with no operator between them, like `4 2`?\n",
        "\n",
        "* If you call a function like `round(42.5)`, what happens if you leave out one or both parentheses?\n",
        "\n",
        "* Correct the spelling in this question.\n"
      ]
    },
    {
      "cell_type": "code",
      "execution_count": null,
      "metadata": {
        "id": "hk18UFPm7wYP",
        "colab": {
          "base_uri": "https://localhost:8080/"
        },
        "outputId": "be0e0562-148c-478f-cda2-f6a29a569bdf"
      },
      "outputs": [
        {
          "output_type": "execute_result",
          "data": {
            "text/plain": [
              "4"
            ]
          },
          "metadata": {},
          "execution_count": 4
        }
      ],
      "source": [
        "2++2\n",
        "# Nothing changes\n",
        "+2+2\n",
        "# Again nothing changes"
      ]
    },
    {
      "cell_type": "code",
      "source": [
        "4 2\n",
        "# Theres a syntax error when doing this"
      ],
      "metadata": {
        "colab": {
          "base_uri": "https://localhost:8080/",
          "height": 106
        },
        "id": "SagGhRSD8U4B",
        "outputId": "81a8705d-5a04-41e4-a1eb-b983b26cc4d3"
      },
      "execution_count": null,
      "outputs": [
        {
          "output_type": "error",
          "ename": "SyntaxError",
          "evalue": "invalid syntax (ipython-input-2924399805.py, line 1)",
          "traceback": [
            "\u001b[0;36m  File \u001b[0;32m\"/tmp/ipython-input-2924399805.py\"\u001b[0;36m, line \u001b[0;32m1\u001b[0m\n\u001b[0;31m    4 2\u001b[0m\n\u001b[0m      ^\u001b[0m\n\u001b[0;31mSyntaxError\u001b[0m\u001b[0;31m:\u001b[0m invalid syntax\n"
          ]
        }
      ]
    },
    {
      "cell_type": "code",
      "source": [
        "round(42.5)\n",
        "# Normal\n",
        "round(42.5\n",
        "# Shows as an incomplete output\n",
        "round 42.5\n",
        "# shows as it was never closed"
      ],
      "metadata": {
        "colab": {
          "base_uri": "https://localhost:8080/",
          "height": 106
        },
        "id": "54KCbJRn8sXz",
        "outputId": "3dbe10e1-080d-406f-ba79-957082885cc0"
      },
      "execution_count": null,
      "outputs": [
        {
          "output_type": "error",
          "ename": "SyntaxError",
          "evalue": "'(' was never closed (ipython-input-90978821.py, line 3)",
          "traceback": [
            "\u001b[0;36m  File \u001b[0;32m\"/tmp/ipython-input-90978821.py\"\u001b[0;36m, line \u001b[0;32m3\u001b[0m\n\u001b[0;31m    round(42.5\u001b[0m\n\u001b[0m         ^\u001b[0m\n\u001b[0;31mSyntaxError\u001b[0m\u001b[0;31m:\u001b[0m '(' was never closed\n"
          ]
        }
      ]
    },
    {
      "cell_type": "markdown",
      "metadata": {
        "id": "mVMSnFix7wYQ"
      },
      "source": [
        "## 3 - Types\n"
      ]
    },
    {
      "cell_type": "markdown",
      "metadata": {
        "id": "yXAJ0T587wYQ"
      },
      "source": [
        "Recall that every expression has a value, every value has a type, and we can use the type function to find the type of any value.\n",
        "\n",
        "What is the type of the value of the following expressions? Make your best guess for each one, and then use `type` to find out.\n",
        "\n",
        "* `765` Integer\n",
        "* `2.718` Float\n",
        "* `'2 pi'` Float\n",
        "* `abs(-7)` Integer\n",
        "* `abs(-7.0)` Float\n",
        "* `abs` String\n",
        "* `int` String\n",
        "* `type` String"
      ]
    },
    {
      "cell_type": "code",
      "source": [
        "type(765)"
      ],
      "metadata": {
        "colab": {
          "base_uri": "https://localhost:8080/"
        },
        "id": "grD3aSfo9_Qf",
        "outputId": "73f213eb-2227-43dc-8bc9-ebe03be371f8"
      },
      "execution_count": null,
      "outputs": [
        {
          "output_type": "execute_result",
          "data": {
            "text/plain": [
              "int"
            ]
          },
          "metadata": {},
          "execution_count": 13
        }
      ]
    },
    {
      "cell_type": "code",
      "source": [
        "type(2.718)"
      ],
      "metadata": {
        "colab": {
          "base_uri": "https://localhost:8080/"
        },
        "id": "c-sp7eV6-D4t",
        "outputId": "0dbadd28-5d8d-4dca-8b29-b0ab97eb5014"
      },
      "execution_count": null,
      "outputs": [
        {
          "output_type": "execute_result",
          "data": {
            "text/plain": [
              "float"
            ]
          },
          "metadata": {},
          "execution_count": 14
        }
      ]
    },
    {
      "cell_type": "code",
      "source": [
        "type(2 pi)\n",
        "#produces an error. Need to import math and then math.pi to make this work."
      ],
      "metadata": {
        "colab": {
          "base_uri": "https://localhost:8080/",
          "height": 106
        },
        "id": "3t-yYcMq-EKi",
        "outputId": "45cc0365-391c-4e43-8df3-505284f87fe8"
      },
      "execution_count": null,
      "outputs": [
        {
          "output_type": "error",
          "ename": "SyntaxError",
          "evalue": "invalid syntax. Perhaps you forgot a comma? (ipython-input-3000550120.py, line 1)",
          "traceback": [
            "\u001b[0;36m  File \u001b[0;32m\"/tmp/ipython-input-3000550120.py\"\u001b[0;36m, line \u001b[0;32m1\u001b[0m\n\u001b[0;31m    type(2 pi)\u001b[0m\n\u001b[0m         ^\u001b[0m\n\u001b[0;31mSyntaxError\u001b[0m\u001b[0;31m:\u001b[0m invalid syntax. Perhaps you forgot a comma?\n"
          ]
        }
      ]
    },
    {
      "cell_type": "code",
      "source": [
        "type(abs(-7))"
      ],
      "metadata": {
        "colab": {
          "base_uri": "https://localhost:8080/"
        },
        "id": "Hpxp-wtY-Egh",
        "outputId": "8ef7dd3f-e275-4bc6-f5d0-f36957e45629"
      },
      "execution_count": null,
      "outputs": [
        {
          "output_type": "execute_result",
          "data": {
            "text/plain": [
              "int"
            ]
          },
          "metadata": {},
          "execution_count": 16
        }
      ]
    },
    {
      "cell_type": "code",
      "source": [
        "type(abs(-7.0))"
      ],
      "metadata": {
        "id": "rROtNr08-E5r",
        "colab": {
          "base_uri": "https://localhost:8080/"
        },
        "outputId": "890f9f69-b6d2-411d-adf0-833845be7747"
      },
      "execution_count": null,
      "outputs": [
        {
          "output_type": "execute_result",
          "data": {
            "text/plain": [
              "float"
            ]
          },
          "metadata": {},
          "execution_count": 1
        }
      ]
    },
    {
      "cell_type": "code",
      "source": [
        "type(abs)"
      ],
      "metadata": {
        "id": "-rpsBcEo-FPY",
        "colab": {
          "base_uri": "https://localhost:8080/"
        },
        "outputId": "14d66594-29e0-4027-bf05-0feac726520c"
      },
      "execution_count": 1,
      "outputs": [
        {
          "output_type": "execute_result",
          "data": {
            "text/plain": [
              "builtin_function_or_method"
            ]
          },
          "metadata": {},
          "execution_count": 1
        }
      ]
    },
    {
      "cell_type": "code",
      "source": [
        "type(int)"
      ],
      "metadata": {
        "id": "wVqtOtJ6-FkX",
        "colab": {
          "base_uri": "https://localhost:8080/"
        },
        "outputId": "818d4bfa-8fa1-4eca-e3e4-445926676bbf"
      },
      "execution_count": 3,
      "outputs": [
        {
          "output_type": "execute_result",
          "data": {
            "text/plain": [
              "type"
            ]
          },
          "metadata": {},
          "execution_count": 3
        }
      ]
    },
    {
      "cell_type": "code",
      "source": [
        "type(type)"
      ],
      "metadata": {
        "colab": {
          "base_uri": "https://localhost:8080/"
        },
        "id": "nZO9UvZJ5wf4",
        "outputId": "49a04c45-4def-4f7f-ae88-60ed9ca0db6b"
      },
      "execution_count": 4,
      "outputs": [
        {
          "output_type": "execute_result",
          "data": {
            "text/plain": [
              "type"
            ]
          },
          "metadata": {},
          "execution_count": 4
        }
      ]
    },
    {
      "cell_type": "markdown",
      "source": [
        "## 4 - Arithmetic Expresssions"
      ],
      "metadata": {
        "id": "nVnffTn5CfGq"
      }
    },
    {
      "cell_type": "markdown",
      "source": [
        "The following questions give you a chance to practice writing arithmetic expressions.\n",
        "\n",
        "* How many seconds are there in 42 minutes 42 seconds?\n",
        "* How many miles are there in 10 kilometers? Hint: there are 1.61 kilometers in a mile.\n",
        "* If you run a 10 kilometer race in 42 minutes 42 seconds, what is your average pace in seconds per mile?\n",
        "* What is your average pace in minutes and seconds per mile?\n",
        "* What is your average speed in miles per hour?\n"
      ],
      "metadata": {
        "id": "TDrRPRWTCkvD"
      }
    },
    {
      "cell_type": "code",
      "source": [
        "y = 42*60+42\n",
        "y\n",
        "#2562 seconds"
      ],
      "metadata": {
        "id": "vjLAYq07CkGy",
        "colab": {
          "base_uri": "https://localhost:8080/"
        },
        "outputId": "3cc3dc35-1f56-4573-bc1a-9913c5cd3859"
      },
      "execution_count": 13,
      "outputs": [
        {
          "output_type": "execute_result",
          "data": {
            "text/plain": [
              "2562"
            ]
          },
          "metadata": {},
          "execution_count": 13
        }
      ]
    },
    {
      "cell_type": "code",
      "source": [
        "x = 10/1.61\n",
        "x\n",
        "# 6.21 miles"
      ],
      "metadata": {
        "colab": {
          "base_uri": "https://localhost:8080/"
        },
        "id": "j5DHm2Hl6D6P",
        "outputId": "cd637a8a-4365-401b-aa6f-48b6137f6070"
      },
      "execution_count": 25,
      "outputs": [
        {
          "output_type": "execute_result",
          "data": {
            "text/plain": [
              "6.211180124223602"
            ]
          },
          "metadata": {},
          "execution_count": 25
        }
      ]
    },
    {
      "cell_type": "code",
      "source": [
        "z=y/x\n",
        "z\n",
        "# 159.13 seconds/mile"
      ],
      "metadata": {
        "colab": {
          "base_uri": "https://localhost:8080/"
        },
        "id": "P255FJF26DrM",
        "outputId": "9d8e9f13-e7d8-4b10-f9bd-396074381447"
      },
      "execution_count": 26,
      "outputs": [
        {
          "output_type": "execute_result",
          "data": {
            "text/plain": [
              "412.482"
            ]
          },
          "metadata": {},
          "execution_count": 26
        }
      ]
    },
    {
      "cell_type": "code",
      "source": [
        "z\n",
        "# convert z seconds per mile back to minutes+seconds per mile\n",
        "# new pace should be 6 minutes + 52.6 seconds per mile\n"
      ],
      "metadata": {
        "colab": {
          "base_uri": "https://localhost:8080/"
        },
        "id": "5tFwgy2q6Dgl",
        "outputId": "76f25ec5-cbf2-4e81-9d53-dcb68b2aee53"
      },
      "execution_count": 29,
      "outputs": [
        {
          "output_type": "execute_result",
          "data": {
            "text/plain": [
              "412.482"
            ]
          },
          "metadata": {},
          "execution_count": 29
        }
      ]
    },
    {
      "cell_type": "code",
      "source": [
        "y_hours = y/3600\n",
        "y_hours\n",
        "mph = x/y_hours\n",
        "mph\n",
        "# 8.73 miles/hour"
      ],
      "metadata": {
        "colab": {
          "base_uri": "https://localhost:8080/"
        },
        "id": "3ZdISYvs6DWN",
        "outputId": "c2405f37-90cf-4522-db7b-2ab9658824ad"
      },
      "execution_count": 34,
      "outputs": [
        {
          "output_type": "execute_result",
          "data": {
            "text/plain": [
              "8.727653570337614"
            ]
          },
          "metadata": {},
          "execution_count": 34
        }
      ]
    },
    {
      "cell_type": "markdown",
      "source": [
        "## 5 - More Features"
      ],
      "metadata": {
        "id": "vrUw4M0lCzKd"
      }
    },
    {
      "cell_type": "markdown",
      "source": [
        "* We've seen that `n = 17 is` allowed. What about `17 = n`?\n",
        "How about `x = y = 1`?\n",
        "\n",
        "* In some languages every statement ends with a semi-colon (`;`). What happens if you put a semi-colon at the end of a Python statement?\n",
        "\n",
        "* What if you put a period at the end of a statement?\n",
        "\n",
        "* What happens if you spell the name of a module wrong and try to `import maath`?"
      ],
      "metadata": {
        "id": "QCs2wJVnC8xD"
      }
    },
    {
      "cell_type": "code",
      "source": [
        "17 = n\n",
        "# no this is not allowed"
      ],
      "metadata": {
        "id": "Q-_pj6QuDJaF",
        "colab": {
          "base_uri": "https://localhost:8080/",
          "height": 106
        },
        "outputId": "0af108c2-74fc-4d94-c3a8-60e57f9709a7"
      },
      "execution_count": 35,
      "outputs": [
        {
          "output_type": "error",
          "ename": "SyntaxError",
          "evalue": "cannot assign to literal here. Maybe you meant '==' instead of '='? (ipython-input-278014627.py, line 1)",
          "traceback": [
            "\u001b[0;36m  File \u001b[0;32m\"/tmp/ipython-input-278014627.py\"\u001b[0;36m, line \u001b[0;32m1\u001b[0m\n\u001b[0;31m    17 = n\u001b[0m\n\u001b[0m    ^\u001b[0m\n\u001b[0;31mSyntaxError\u001b[0m\u001b[0;31m:\u001b[0m cannot assign to literal here. Maybe you meant '==' instead of '='?\n"
          ]
        }
      ]
    },
    {
      "cell_type": "code",
      "source": [
        "x = y = 1\n",
        "print(x,y)\n",
        "# yes this is allowed"
      ],
      "metadata": {
        "colab": {
          "base_uri": "https://localhost:8080/"
        },
        "id": "xbU-naGU94Dy",
        "outputId": "3424fb7f-ac81-4d0c-9e21-ce43ef4880ee"
      },
      "execution_count": 39,
      "outputs": [
        {
          "output_type": "stream",
          "name": "stdout",
          "text": [
            "1 1\n"
          ]
        }
      ]
    },
    {
      "cell_type": "code",
      "source": [
        "x = 14;\n",
        "x\n",
        "# seems like the same happens here if we add a semi-colon. No problems\n",
        "'shiheiefifh';\n",
        "'ksfjsdkj';\n",
        "# it won't print out the answers if leaving a semicolon"
      ],
      "metadata": {
        "id": "7T865YzG-B-R"
      },
      "execution_count": 51,
      "outputs": []
    },
    {
      "cell_type": "code",
      "source": [
        "g = 124.\n",
        "g\n",
        "# turns a number into a float\n",
        "'asdfhoiwef'.\n",
        "# makes a string have an error as it's invalid syntax"
      ],
      "metadata": {
        "colab": {
          "base_uri": "https://localhost:8080/",
          "height": 106
        },
        "id": "7YYl0Q56-bvB",
        "outputId": "4de7193a-03d5-4bcf-ed1d-2ae350b03bdf"
      },
      "execution_count": 55,
      "outputs": [
        {
          "output_type": "error",
          "ename": "SyntaxError",
          "evalue": "invalid syntax (ipython-input-3454709789.py, line 4)",
          "traceback": [
            "\u001b[0;36m  File \u001b[0;32m\"/tmp/ipython-input-3454709789.py\"\u001b[0;36m, line \u001b[0;32m4\u001b[0m\n\u001b[0;31m    'asdfhoiwef'.\u001b[0m\n\u001b[0m                 ^\u001b[0m\n\u001b[0;31mSyntaxError\u001b[0m\u001b[0;31m:\u001b[0m invalid syntax\n"
          ]
        }
      ]
    },
    {
      "cell_type": "code",
      "source": [
        "import maath\n",
        "# no module with that name was found so it makes an error"
      ],
      "metadata": {
        "colab": {
          "base_uri": "https://localhost:8080/",
          "height": 349
        },
        "id": "2vtzwNoE-vKC",
        "outputId": "28da4a81-7375-4bd7-cdc8-04fd39b01db9"
      },
      "execution_count": 60,
      "outputs": [
        {
          "output_type": "error",
          "ename": "ModuleNotFoundError",
          "evalue": "No module named 'maath'",
          "traceback": [
            "\u001b[0;31m---------------------------------------------------------------------------\u001b[0m",
            "\u001b[0;31mModuleNotFoundError\u001b[0m                       Traceback (most recent call last)",
            "\u001b[0;32m/tmp/ipython-input-1546293547.py\u001b[0m in \u001b[0;36m<cell line: 0>\u001b[0;34m()\u001b[0m\n\u001b[0;32m----> 1\u001b[0;31m \u001b[0;32mimport\u001b[0m \u001b[0mmaath\u001b[0m\u001b[0;34m\u001b[0m\u001b[0;34m\u001b[0m\u001b[0m\n\u001b[0m        \u001b[0;36mglobal\u001b[0m \u001b[0;36mmaath\u001b[0m \u001b[0;34m= \u001b[0;36mundefined\u001b[0m\u001b[0m\n\u001b[1;32m      2\u001b[0m \u001b[0;31m# no module with that name was found so it makes an error\u001b[0m\u001b[0;34m\u001b[0m\u001b[0;34m\u001b[0m\u001b[0m\n",
            "\u001b[0;31mModuleNotFoundError\u001b[0m: No module named 'maath'",
            "",
            "\u001b[0;31m---------------------------------------------------------------------------\u001b[0;32m\nNOTE: If your import is failing due to a missing package, you can\nmanually install dependencies using either !pip or !apt.\n\nTo view examples of installing some common dependencies, click the\n\"Open Examples\" button below.\n\u001b[0;31m---------------------------------------------------------------------------\u001b[0m\n"
          ],
          "errorDetails": {
            "actions": [
              {
                "action": "open_url",
                "actionText": "Open Examples",
                "url": "/notebooks/snippets/importing_libraries.ipynb"
              }
            ]
          }
        }
      ]
    },
    {
      "cell_type": "markdown",
      "source": [
        "## 6 -  Practice using the Python interpreter as a calculator:"
      ],
      "metadata": {
        "id": "N6fEo-xUDJ_I"
      }
    },
    {
      "cell_type": "markdown",
      "source": [
        "**Part 1.**  The volume of a sphere with radius $r$ is $\\frac{4}{3} \\pi r^3$.\n",
        "\n",
        "* What is the volume of a sphere with radius 5? Start with a variable named `radius` and then assign the result to a variable named `volume`. Display the result. Add comments to indicate that `radius` is in centimeters and `volume` in cubic centimeters.\""
      ],
      "metadata": {
        "id": "Jt98tYpODtFS"
      }
    },
    {
      "cell_type": "code",
      "source": [
        "radius = 5 # this is in centimenters\n",
        "volume = 4/3*math.pi*radius**3 # this is in cubic centimeters\n",
        "print('radius is', radius, 'centimeters')\n",
        "print('volume is', volume, 'cubic centimeters')\n"
      ],
      "metadata": {
        "id": "8VHBiwvYDduC",
        "colab": {
          "base_uri": "https://localhost:8080/"
        },
        "outputId": "d3b47844-45d1-4708-b420-49fc05126674"
      },
      "execution_count": 70,
      "outputs": [
        {
          "output_type": "stream",
          "name": "stdout",
          "text": [
            "radius is 5 centimeters\n",
            "volume is 523.5987755982989 cubic centimeters\n"
          ]
        }
      ]
    },
    {
      "cell_type": "markdown",
      "source": [
        "**Part 2.** A rule of trigonometry says that for any value of $x$, $(\\cos x)^2 + (\\sin x)^2 = 1$. Let's see if it's true for a specific value of $x$ like 42.\n",
        "\n",
        "* Create a variable named `x` with this value. Then use `math.cos` and `math.sin` to compute the sine and cosine of $x$, and the sum of their squared. The result should be close to 1. It might not be exactly 1 because floating-point arithmetic is not exact---it is only approximately correct."
      ],
      "metadata": {
        "id": "oxTE6ymsD3ox"
      }
    },
    {
      "cell_type": "code",
      "source": [
        "x = 42\n",
        "y = math.cos(x)**2 + math.sin(x)**2\n",
        "y"
      ],
      "metadata": {
        "id": "ZuuuCzNpEFxO",
        "colab": {
          "base_uri": "https://localhost:8080/"
        },
        "outputId": "964f2c68-2a3d-4a17-ddea-047146cafe40"
      },
      "execution_count": 76,
      "outputs": [
        {
          "output_type": "execute_result",
          "data": {
            "text/plain": [
              "1.0"
            ]
          },
          "metadata": {},
          "execution_count": 76
        }
      ]
    },
    {
      "cell_type": "markdown",
      "source": [
        "**Part 3.** In addition to `pi`, the other variable defined in the `math` module is `e`, which represents the base of the natural logarithm, written in math notation as $e$. If you are not familiar with this value, ask a virtual assistant \"What is `math.e`?\\\" Now let's compute $e^2$ three ways:,\n",
        "\n",
        "* Use `math.e` and the exponentiation operator (`**`).\n",
        "\n",
        "* Use `math.pow` to raise `math.e` to the power `2`.\n",
        "\n",
        "* Use `math.exp`, which takes as an argument a value, $x$, and computes $e^x$.\n",
        "\n",
        "You might notice that the last result is slightly different from the other two. See if you can find out which is correct."
      ],
      "metadata": {
        "id": "LgFOmEHGEGT3"
      }
    },
    {
      "cell_type": "code",
      "source": [
        "t = math.e**2\n",
        "u = math.pow(math.e,2)\n",
        "v = math.exp(2)\n",
        "print(t,u,v)\n",
        "# since the first two were more similar it would seem that the third one\n",
        "# isn't as correct"
      ],
      "metadata": {
        "id": "iA_bpCtXEXsN",
        "colab": {
          "base_uri": "https://localhost:8080/"
        },
        "outputId": "8310bf60-fc4e-4f01-8a7f-74cc821ffa96"
      },
      "execution_count": 79,
      "outputs": [
        {
          "output_type": "stream",
          "name": "stdout",
          "text": [
            "7.3890560989306495 7.3890560989306495 7.38905609893065\n"
          ]
        }
      ]
    },
    {
      "cell_type": "markdown",
      "source": [
        "## 7 - GitHub\n",
        "\n",
        "add a link or a screen shot of the repository"
      ],
      "metadata": {
        "id": "5qXjiBWGFVve"
      }
    }
  ],
  "metadata": {
    "kernelspec": {
      "display_name": "Python 3 (ipykernel)",
      "language": "python",
      "name": "python3"
    },
    "language_info": {
      "codemirror_mode": {
        "name": "ipython",
        "version": 3
      },
      "file_extension": ".py",
      "mimetype": "text/x-python",
      "name": "python",
      "nbconvert_exporter": "python",
      "pygments_lexer": "ipython3",
      "version": "3.9.7"
    },
    "colab": {
      "provenance": [],
      "include_colab_link": true
    }
  },
  "nbformat": 4,
  "nbformat_minor": 0
}
