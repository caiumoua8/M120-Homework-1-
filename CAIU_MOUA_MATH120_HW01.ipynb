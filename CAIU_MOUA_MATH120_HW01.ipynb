{
  "cells": [
    {
      "cell_type": "markdown",
      "metadata": {
        "id": "view-in-github",
        "colab_type": "text"
      },
      "source": [
        "<a href=\"https://colab.research.google.com/github/caiumoua8/M120-Homework-1-/blob/main/CAIU_MOUA_MATH120_HW01.ipynb\" target=\"_parent\"><img src=\"https://colab.research.google.com/assets/colab-badge.svg\" alt=\"Open In Colab\"/></a>"
      ]
    },
    {
      "cell_type": "markdown",
      "metadata": {
        "id": "URrSc8W97wYL"
      },
      "source": [
        "# MATH 120 - Homework 01"
      ]
    },
    {
      "cell_type": "markdown",
      "metadata": {
        "id": "IZJU1UH-7wYN"
      },
      "source": [
        "**Name:**\n",
        "\n",
        "**Collaborators:**"
      ]
    },
    {
      "cell_type": "markdown",
      "metadata": {
        "id": "M7Ob55rv7wYN"
      },
      "source": [
        "**Instructions:** Please submit a Google Colab notebook link answering the following parts.\n",
        "\n",
        "This homework is due **Friday, Aug.29 by 11:59PM**\n",
        "\n",
        "* If you collaborate with someone in the class, note the name on the assignment.\n",
        "\n",
        "---"
      ]
    },
    {
      "cell_type": "code",
      "source": [
        "# This cell tells Jupyter to provide detailed debugging information\n",
        "# when a runtime error occurs. Run it before working on the exercises.\n",
        "\n",
        "%xmode Verbose\n",
        "import math"
      ],
      "metadata": {
        "colab": {
          "base_uri": "https://localhost:8080/"
        },
        "id": "NWV4wUmHAuve",
        "outputId": "2c32a1e1-f6a4-4e7e-83c6-faad71a2633a"
      },
      "execution_count": 25,
      "outputs": [
        {
          "output_type": "stream",
          "name": "stdout",
          "text": [
            "Exception reporting mode: Verbose\n"
          ]
        }
      ]
    },
    {
      "cell_type": "markdown",
      "metadata": {
        "id": "j97vO-Gc7wYO"
      },
      "source": [
        "## 1 - Ask a LLM"
      ]
    },
    {
      "cell_type": "markdown",
      "metadata": {
        "id": "T7hK-U9M7wYO"
      },
      "source": [
        "As you work through the book, there are several ways you can use a virtual assistant ora  chatbot to help you learn.\n",
        "\n",
        "If you want to learn more about a topic in the chapter, or anything is unclear, you can ask for an explanation.\n",
        "\n",
        "In each chapter, there will be exercises you can do with a virtual assistant, but I encourage you to try things on your own and see what works for you.\n",
        "\n",
        "Here are some topics you could ask a virtual assistant about:\n",
        "\n",
        "Earlier I mentioned bitwise operators but I didn’t explain why the value of 7 ^ 2 is 5.\n",
        "\n",
        "Try asking\n",
        "\n",
        "* “What are the bitwise operators in Python?” or\n",
        "* “What is the value of 7 XOR 2?”\n",
        "\n",
        "and then another question related to one topic we covered in lecture.\n",
        "\n",
        "**NOTE:** Most virtual assistants know about Python, so they answer questions like this pretty reliably. But remember that these tools make mistakes.\n",
        "\n",
        "Be sure to write the prompt, the response, and then your response as well.\n",
        "\n"
      ]
    },
    {
      "cell_type": "markdown",
      "source": [
        "# Bitwise Operators in Python\n",
        "\n",
        "-------------------------------------------------------------------------------\n",
        "\n",
        "**PROMPT 1: What are bitwise operators in Python?**\n",
        "\n",
        "**VIRTUAL ASSISTANT ANSWER:**\n",
        "\n",
        "Python provides several bitwise operators for manipulating integers at the binary level:\n",
        "\n",
        "# Bitwise Operators in Python\n",
        "\n",
        "| Operator | Name        | Description |\n",
        "|----------|-------------|-------------|\n",
        "| `&`      | AND         | Sets each bit to 1 if both bits are 1 |\n",
        "| `\\|`     | OR          | Sets each bit to 1 if at least one bit is 1 |\n",
        "| `^`      | XOR         | Sets each bit to 1 if only one of the bits is 1 |\n",
        "| `~`      | NOT         | Inverts all the bits (two’s complement form) |\n",
        "| `<<`     | Left Shift  | Shifts bits to the left, filling with 0s |\n",
        "| `>>`     | Right Shift | Shifts bits to the right, discarding shifted-off bits |\n",
        "\n",
        "**MY RESPONSE:** Bitwise operators are tools in Python that let you work with numbers at the binary level\n",
        "\n",
        "--------------------------------------------------------------------------------\n",
        "\n",
        "**PROMPT 2: What is a function in google colab python?\"**\n",
        "\n",
        "**VIRTUAL ASSISTANT ANSWER:** A function in Python is a named block of code that you can define once and reuse whenever you need. Functions help organize programs, avoid repetition, and make code easier to read and maintain.\n",
        "\n",
        "**MY RESPONSE:** A function is something you can call on whenever needed, and it has parameters to it. It can be used to help make programs more efficient\n",
        "\n",
        "\n",
        "--------------------------------------------------------------------------------\n"
      ],
      "metadata": {
        "id": "IkE8q6BzBlxj"
      }
    },
    {
      "cell_type": "markdown",
      "metadata": {
        "id": "FWVqX5qa7wYP"
      },
      "source": [
        "## 2 - Make Misteaks\n"
      ]
    },
    {
      "cell_type": "markdown",
      "metadata": {
        "id": "SDf1lF4X7wYP"
      },
      "source": [
        "When you learn about a new feature, you should try it out and make mistakes on purpose. That way, you learn the error messages, and when you see them again, you will know what they mean. It is better to make mistakes now and deliberately than later and accidentally.\n",
        "\n",
        "* You can use a minus sign to make a negative number like -2. What happens if you put a plus sign before a number? What about `2++2`?\n",
        "\n",
        "* What happens if you have two values with no operator between them, like `4 2`?\n",
        "\n",
        "* If you call a function like `round(42.5)`, what happens if you leave out one or both parentheses?\n",
        "\n",
        "* Correct the spelling in this question.\n"
      ]
    },
    {
      "cell_type": "code",
      "execution_count": 11,
      "metadata": {
        "id": "hk18UFPm7wYP",
        "colab": {
          "base_uri": "https://localhost:8080/"
        },
        "outputId": "5785448f-50b3-4721-ef71-4379fb1127ce"
      },
      "outputs": [
        {
          "output_type": "execute_result",
          "data": {
            "text/plain": [
              "4"
            ]
          },
          "metadata": {},
          "execution_count": 11
        }
      ],
      "source": [
        "2++2\n",
        "# Nothing changes\n",
        "+2+2\n",
        "# Again nothing changes"
      ]
    },
    {
      "cell_type": "code",
      "source": [
        "4 2\n",
        "# Theres a syntax error when doing this"
      ],
      "metadata": {
        "colab": {
          "base_uri": "https://localhost:8080/",
          "height": 106
        },
        "id": "SagGhRSD8U4B",
        "outputId": "7c128656-aa84-4353-9e94-e63d433be88f"
      },
      "execution_count": 12,
      "outputs": [
        {
          "output_type": "error",
          "ename": "SyntaxError",
          "evalue": "invalid syntax (ipython-input-3697031172.py, line 1)",
          "traceback": [
            "\u001b[0;36m  File \u001b[0;32m\"/tmp/ipython-input-3697031172.py\"\u001b[0;36m, line \u001b[0;32m1\u001b[0m\n\u001b[0;31m    4 2\u001b[0m\n\u001b[0m      ^\u001b[0m\n\u001b[0;31mSyntaxError\u001b[0m\u001b[0;31m:\u001b[0m invalid syntax\n"
          ]
        }
      ]
    },
    {
      "cell_type": "code",
      "source": [
        "round(42.5)\n",
        "# Normal\n",
        "round(42.5\n",
        "# Shows as an incomplete output\n",
        "round 42.5\n",
        "# shows as it was never closed"
      ],
      "metadata": {
        "id": "54KCbJRn8sXz"
      },
      "execution_count": null,
      "outputs": []
    },
    {
      "cell_type": "markdown",
      "metadata": {
        "id": "mVMSnFix7wYQ"
      },
      "source": [
        "## 3 - Types\n"
      ]
    },
    {
      "cell_type": "markdown",
      "metadata": {
        "id": "yXAJ0T587wYQ"
      },
      "source": [
        "Recall that every expression has a value, every value has a type, and we can use the type function to find the type of any value.\n",
        "\n",
        "What is the type of the value of the following expressions? Make your best guess for each one, and then use `type` to find out.\n",
        "\n",
        "* `765` Integer\n",
        "* `2.718` Float\n",
        "* `'2 pi'` Float\n",
        "* `abs(-7)` Integer\n",
        "* `abs(-7.0)` Float\n",
        "* `abs` String\n",
        "* `int` String\n",
        "* `type` String"
      ]
    },
    {
      "cell_type": "code",
      "source": [
        "type(765)"
      ],
      "metadata": {
        "colab": {
          "base_uri": "https://localhost:8080/"
        },
        "id": "grD3aSfo9_Qf",
        "outputId": "3c82d351-9bc7-4fbd-c01e-408827a1520f"
      },
      "execution_count": 10,
      "outputs": [
        {
          "output_type": "execute_result",
          "data": {
            "text/plain": [
              "int"
            ]
          },
          "metadata": {},
          "execution_count": 10
        }
      ]
    },
    {
      "cell_type": "code",
      "source": [
        "type(2.718)"
      ],
      "metadata": {
        "colab": {
          "base_uri": "https://localhost:8080/"
        },
        "id": "c-sp7eV6-D4t",
        "outputId": "91029d68-132c-4783-eb28-bdbdaa18de88"
      },
      "execution_count": 9,
      "outputs": [
        {
          "output_type": "execute_result",
          "data": {
            "text/plain": [
              "float"
            ]
          },
          "metadata": {},
          "execution_count": 9
        }
      ]
    },
    {
      "cell_type": "code",
      "source": [
        "type(2 pi)\n",
        "#produces an error. Need to import math and then math.pi to make this work."
      ],
      "metadata": {
        "colab": {
          "base_uri": "https://localhost:8080/",
          "height": 106
        },
        "id": "3t-yYcMq-EKi",
        "outputId": "9f92391c-0640-4e5b-9652-f9c8c934a9e3"
      },
      "execution_count": 8,
      "outputs": [
        {
          "output_type": "error",
          "ename": "SyntaxError",
          "evalue": "invalid syntax. Perhaps you forgot a comma? (ipython-input-542588287.py, line 1)",
          "traceback": [
            "\u001b[0;36m  File \u001b[0;32m\"/tmp/ipython-input-542588287.py\"\u001b[0;36m, line \u001b[0;32m1\u001b[0m\n\u001b[0;31m    type(2 pi)\u001b[0m\n\u001b[0m         ^\u001b[0m\n\u001b[0;31mSyntaxError\u001b[0m\u001b[0;31m:\u001b[0m invalid syntax. Perhaps you forgot a comma?\n"
          ]
        }
      ]
    },
    {
      "cell_type": "code",
      "source": [
        "type(abs(-7))"
      ],
      "metadata": {
        "colab": {
          "base_uri": "https://localhost:8080/"
        },
        "id": "Hpxp-wtY-Egh",
        "outputId": "9e0b859f-1191-4524-815d-d3e964624819"
      },
      "execution_count": 7,
      "outputs": [
        {
          "output_type": "execute_result",
          "data": {
            "text/plain": [
              "int"
            ]
          },
          "metadata": {},
          "execution_count": 7
        }
      ]
    },
    {
      "cell_type": "code",
      "source": [
        "type(abs(-7.0))"
      ],
      "metadata": {
        "id": "rROtNr08-E5r",
        "colab": {
          "base_uri": "https://localhost:8080/"
        },
        "outputId": "bdff7c49-8a0e-4ce7-e2b5-e43cc157393c"
      },
      "execution_count": 6,
      "outputs": [
        {
          "output_type": "execute_result",
          "data": {
            "text/plain": [
              "float"
            ]
          },
          "metadata": {},
          "execution_count": 6
        }
      ]
    },
    {
      "cell_type": "code",
      "source": [
        "type(abs)"
      ],
      "metadata": {
        "id": "-rpsBcEo-FPY",
        "colab": {
          "base_uri": "https://localhost:8080/"
        },
        "outputId": "728cb249-61c4-48c0-c7c0-dcf961302290"
      },
      "execution_count": 5,
      "outputs": [
        {
          "output_type": "execute_result",
          "data": {
            "text/plain": [
              "builtin_function_or_method"
            ]
          },
          "metadata": {},
          "execution_count": 5
        }
      ]
    },
    {
      "cell_type": "code",
      "source": [
        "type(int)"
      ],
      "metadata": {
        "id": "wVqtOtJ6-FkX",
        "colab": {
          "base_uri": "https://localhost:8080/"
        },
        "outputId": "c6a7f773-c9ec-432d-bf77-edff48235a58"
      },
      "execution_count": 4,
      "outputs": [
        {
          "output_type": "execute_result",
          "data": {
            "text/plain": [
              "type"
            ]
          },
          "metadata": {},
          "execution_count": 4
        }
      ]
    },
    {
      "cell_type": "code",
      "source": [
        "type(type)"
      ],
      "metadata": {
        "colab": {
          "base_uri": "https://localhost:8080/"
        },
        "id": "nZO9UvZJ5wf4",
        "outputId": "a7a1989a-6b5f-4ed2-9af2-7b9654b12278"
      },
      "execution_count": 3,
      "outputs": [
        {
          "output_type": "execute_result",
          "data": {
            "text/plain": [
              "type"
            ]
          },
          "metadata": {},
          "execution_count": 3
        }
      ]
    },
    {
      "cell_type": "markdown",
      "source": [
        "## 4 - Arithmetic Expresssions"
      ],
      "metadata": {
        "id": "nVnffTn5CfGq"
      }
    },
    {
      "cell_type": "markdown",
      "source": [
        "The following questions give you a chance to practice writing arithmetic expressions.\n",
        "\n",
        "* How many seconds are there in 42 minutes 42 seconds?\n",
        "* How many miles are there in 10 kilometers? Hint: there are 1.61 kilometers in a mile.\n",
        "* If you run a 10 kilometer race in 42 minutes 42 seconds, what is your average pace in seconds per mile?\n",
        "* What is your average pace in minutes and seconds per mile?\n",
        "* What is your average speed in miles per hour?\n"
      ],
      "metadata": {
        "id": "TDrRPRWTCkvD"
      }
    },
    {
      "cell_type": "code",
      "source": [
        "y = 42*60+42\n",
        "y\n",
        "#2562 seconds"
      ],
      "metadata": {
        "id": "vjLAYq07CkGy",
        "colab": {
          "base_uri": "https://localhost:8080/"
        },
        "outputId": "0b2edd66-3d5d-48b3-f3fc-0227bfdf139c"
      },
      "execution_count": 13,
      "outputs": [
        {
          "output_type": "execute_result",
          "data": {
            "text/plain": [
              "2562"
            ]
          },
          "metadata": {},
          "execution_count": 13
        }
      ]
    },
    {
      "cell_type": "code",
      "source": [
        "x = 10/1.61\n",
        "x\n",
        "# 6.21 miles"
      ],
      "metadata": {
        "colab": {
          "base_uri": "https://localhost:8080/"
        },
        "id": "j5DHm2Hl6D6P",
        "outputId": "2a827166-19b1-4faa-8ff4-cf3423602662"
      },
      "execution_count": 14,
      "outputs": [
        {
          "output_type": "execute_result",
          "data": {
            "text/plain": [
              "6.211180124223602"
            ]
          },
          "metadata": {},
          "execution_count": 14
        }
      ]
    },
    {
      "cell_type": "code",
      "source": [
        "z=y/x\n",
        "z\n",
        "# 159.13 seconds/mile"
      ],
      "metadata": {
        "colab": {
          "base_uri": "https://localhost:8080/"
        },
        "id": "P255FJF26DrM",
        "outputId": "0aeebe06-d914-42c9-8b3e-6197d2eac8c2"
      },
      "execution_count": 15,
      "outputs": [
        {
          "output_type": "execute_result",
          "data": {
            "text/plain": [
              "412.482"
            ]
          },
          "metadata": {},
          "execution_count": 15
        }
      ]
    },
    {
      "cell_type": "code",
      "source": [
        "z\n",
        "# convert z seconds per mile back to minutes+seconds per mile\n",
        "# new pace should be 6 minutes + 52.6 seconds per mile\n"
      ],
      "metadata": {
        "colab": {
          "base_uri": "https://localhost:8080/"
        },
        "id": "5tFwgy2q6Dgl",
        "outputId": "fa0b2ac4-d699-45c9-9a78-75713a3d0ea5"
      },
      "execution_count": 16,
      "outputs": [
        {
          "output_type": "execute_result",
          "data": {
            "text/plain": [
              "412.482"
            ]
          },
          "metadata": {},
          "execution_count": 16
        }
      ]
    },
    {
      "cell_type": "code",
      "source": [
        "y_hours = y/3600\n",
        "y_hours\n",
        "mph = x/y_hours\n",
        "mph\n",
        "# 8.73 miles/hour"
      ],
      "metadata": {
        "colab": {
          "base_uri": "https://localhost:8080/"
        },
        "id": "3ZdISYvs6DWN",
        "outputId": "d12ca916-1697-498b-b8f0-895b687bacae"
      },
      "execution_count": 17,
      "outputs": [
        {
          "output_type": "execute_result",
          "data": {
            "text/plain": [
              "8.727653570337614"
            ]
          },
          "metadata": {},
          "execution_count": 17
        }
      ]
    },
    {
      "cell_type": "markdown",
      "source": [
        "## 5 - More Features"
      ],
      "metadata": {
        "id": "vrUw4M0lCzKd"
      }
    },
    {
      "cell_type": "markdown",
      "source": [
        "* We've seen that `n = 17 is` allowed. What about `17 = n`?\n",
        "How about `x = y = 1`?\n",
        "\n",
        "* In some languages every statement ends with a semi-colon (`;`). What happens if you put a semi-colon at the end of a Python statement?\n",
        "\n",
        "* What if you put a period at the end of a statement?\n",
        "\n",
        "* What happens if you spell the name of a module wrong and try to `import maath`?"
      ],
      "metadata": {
        "id": "QCs2wJVnC8xD"
      }
    },
    {
      "cell_type": "code",
      "source": [
        "17 = n\n",
        "# no this is not allowed"
      ],
      "metadata": {
        "id": "Q-_pj6QuDJaF",
        "colab": {
          "base_uri": "https://localhost:8080/",
          "height": 106
        },
        "outputId": "0cf1b26b-f83e-4286-bfc6-bff54d6f247d"
      },
      "execution_count": 19,
      "outputs": [
        {
          "output_type": "error",
          "ename": "SyntaxError",
          "evalue": "cannot assign to literal here. Maybe you meant '==' instead of '='? (ipython-input-3837120592.py, line 1)",
          "traceback": [
            "\u001b[0;36m  File \u001b[0;32m\"/tmp/ipython-input-3837120592.py\"\u001b[0;36m, line \u001b[0;32m1\u001b[0m\n\u001b[0;31m    17 = n\u001b[0m\n\u001b[0m    ^\u001b[0m\n\u001b[0;31mSyntaxError\u001b[0m\u001b[0;31m:\u001b[0m cannot assign to literal here. Maybe you meant '==' instead of '='?\n"
          ]
        }
      ]
    },
    {
      "cell_type": "code",
      "source": [
        "x = y = 1\n",
        "print(x,y)\n",
        "# yes this is allowed"
      ],
      "metadata": {
        "colab": {
          "base_uri": "https://localhost:8080/"
        },
        "id": "xbU-naGU94Dy",
        "outputId": "00c7b6f0-a28c-4d3f-994b-ee829f480fb5"
      },
      "execution_count": 18,
      "outputs": [
        {
          "output_type": "stream",
          "name": "stdout",
          "text": [
            "1 1\n"
          ]
        }
      ]
    },
    {
      "cell_type": "code",
      "source": [
        "x = 14;\n",
        "x\n",
        "# seems like the same happens here if we add a semi-colon. No problems\n",
        "'shiheiefifh';\n",
        "'ksfjsdkj';\n",
        "# it won't print out the answers if leaving a semicolon. For both strings and number values"
      ],
      "metadata": {
        "id": "7T865YzG-B-R"
      },
      "execution_count": 20,
      "outputs": []
    },
    {
      "cell_type": "code",
      "source": [
        "g = 124.\n",
        "g\n",
        "# turns a number into a float\n",
        "'asdfhoiwef'.\n",
        "# makes a string have an error as it's invalid syntax"
      ],
      "metadata": {
        "colab": {
          "base_uri": "https://localhost:8080/",
          "height": 106
        },
        "id": "7YYl0Q56-bvB",
        "outputId": "f8fea995-58a1-4076-8060-3fd439bc40dd"
      },
      "execution_count": 21,
      "outputs": [
        {
          "output_type": "error",
          "ename": "SyntaxError",
          "evalue": "invalid syntax (ipython-input-3454709789.py, line 4)",
          "traceback": [
            "\u001b[0;36m  File \u001b[0;32m\"/tmp/ipython-input-3454709789.py\"\u001b[0;36m, line \u001b[0;32m4\u001b[0m\n\u001b[0;31m    'asdfhoiwef'.\u001b[0m\n\u001b[0m                 ^\u001b[0m\n\u001b[0;31mSyntaxError\u001b[0m\u001b[0;31m:\u001b[0m invalid syntax\n"
          ]
        }
      ]
    },
    {
      "cell_type": "code",
      "source": [
        "import maath\n",
        "# no module with that name was found so it makes an error"
      ],
      "metadata": {
        "colab": {
          "base_uri": "https://localhost:8080/",
          "height": 331
        },
        "id": "2vtzwNoE-vKC",
        "outputId": "41414cf3-af16-4c85-df1e-157545dab8ab"
      },
      "execution_count": 22,
      "outputs": [
        {
          "output_type": "error",
          "ename": "ModuleNotFoundError",
          "evalue": "No module named 'maath'",
          "traceback": [
            "\u001b[0;31m---------------------------------------------------------------------------\u001b[0m",
            "\u001b[0;31mModuleNotFoundError\u001b[0m                       Traceback (most recent call last)",
            "\u001b[0;32m/tmp/ipython-input-1546293547.py\u001b[0m in \u001b[0;36m<cell line: 0>\u001b[0;34m()\u001b[0m\n\u001b[0;32m----> 1\u001b[0;31m \u001b[0;32mimport\u001b[0m \u001b[0mmaath\u001b[0m\u001b[0;34m\u001b[0m\u001b[0;34m\u001b[0m\u001b[0m\n\u001b[0m\u001b[1;32m      2\u001b[0m \u001b[0;31m# no module with that name was found so it makes an error\u001b[0m\u001b[0;34m\u001b[0m\u001b[0;34m\u001b[0m\u001b[0m\n",
            "\u001b[0;31mModuleNotFoundError\u001b[0m: No module named 'maath'",
            "",
            "\u001b[0;31m---------------------------------------------------------------------------\u001b[0;32m\nNOTE: If your import is failing due to a missing package, you can\nmanually install dependencies using either !pip or !apt.\n\nTo view examples of installing some common dependencies, click the\n\"Open Examples\" button below.\n\u001b[0;31m---------------------------------------------------------------------------\u001b[0m\n"
          ],
          "errorDetails": {
            "actions": [
              {
                "action": "open_url",
                "actionText": "Open Examples",
                "url": "/notebooks/snippets/importing_libraries.ipynb"
              }
            ]
          }
        }
      ]
    },
    {
      "cell_type": "markdown",
      "source": [
        "## 6 -  Practice using the Python interpreter as a calculator:"
      ],
      "metadata": {
        "id": "N6fEo-xUDJ_I"
      }
    },
    {
      "cell_type": "markdown",
      "source": [
        "**Part 1.**  The volume of a sphere with radius $r$ is $\\frac{4}{3} \\pi r^3$.\n",
        "\n",
        "* What is the volume of a sphere with radius 5? Start with a variable named `radius` and then assign the result to a variable named `volume`. Display the result. Add comments to indicate that `radius` is in centimeters and `volume` in cubic centimeters.\""
      ],
      "metadata": {
        "id": "Jt98tYpODtFS"
      }
    },
    {
      "cell_type": "code",
      "source": [
        "radius = 5 # this is in centimenters\n",
        "volume = 4/3*math.pi*radius**3 # this is in cubic centimeters\n",
        "print('radius is', radius, 'centimeters')\n",
        "print('volume is', volume, 'cubic centimeters')"
      ],
      "metadata": {
        "id": "8VHBiwvYDduC",
        "colab": {
          "base_uri": "https://localhost:8080/"
        },
        "outputId": "fe4107b7-eab7-4035-ccc4-c0080f5d7a04"
      },
      "execution_count": 26,
      "outputs": [
        {
          "output_type": "stream",
          "name": "stdout",
          "text": [
            "radius is 5 centimeters\n",
            "volume is 523.5987755982989 cubic centimeters\n"
          ]
        }
      ]
    },
    {
      "cell_type": "markdown",
      "source": [
        "**Part 2.** A rule of trigonometry says that for any value of $x$, $(\\cos x)^2 + (\\sin x)^2 = 1$. Let's see if it's true for a specific value of $x$ like 42.\n",
        "\n",
        "* Create a variable named `x` with this value. Then use `math.cos` and `math.sin` to compute the sine and cosine of $x$, and the sum of their squared. The result should be close to 1. It might not be exactly 1 because floating-point arithmetic is not exact---it is only approximately correct."
      ],
      "metadata": {
        "id": "oxTE6ymsD3ox"
      }
    },
    {
      "cell_type": "code",
      "source": [
        "x = 42\n",
        "y = math.cos(x)**2 + math.sin(x)**2\n",
        "y"
      ],
      "metadata": {
        "id": "ZuuuCzNpEFxO",
        "colab": {
          "base_uri": "https://localhost:8080/"
        },
        "outputId": "b1b91cb4-1150-45f2-a3d3-0c094655350b"
      },
      "execution_count": 27,
      "outputs": [
        {
          "output_type": "execute_result",
          "data": {
            "text/plain": [
              "1.0"
            ]
          },
          "metadata": {},
          "execution_count": 27
        }
      ]
    },
    {
      "cell_type": "markdown",
      "source": [
        "**Part 3.** In addition to `pi`, the other variable defined in the `math` module is `e`, which represents the base of the natural logarithm, written in math notation as $e$. If you are not familiar with this value, ask a virtual assistant \"What is `math.e`?\\\" Now let's compute $e^2$ three ways:,\n",
        "\n",
        "* Use `math.e` and the exponentiation operator (`**`).\n",
        "\n",
        "* Use `math.pow` to raise `math.e` to the power `2`.\n",
        "\n",
        "* Use `math.exp`, which takes as an argument a value, $x$, and computes $e^x$.\n",
        "\n",
        "You might notice that the last result is slightly different from the other two. See if you can find out which is correct."
      ],
      "metadata": {
        "id": "LgFOmEHGEGT3"
      }
    },
    {
      "cell_type": "code",
      "source": [
        "t = math.e**2\n",
        "u = math.pow(math.e,2)\n",
        "v = math.exp(2)\n",
        "print(t,u,v)\n",
        "# the third is more accurate since it doesn't rely on a rounded constant like the other two functions."
      ],
      "metadata": {
        "id": "iA_bpCtXEXsN",
        "colab": {
          "base_uri": "https://localhost:8080/"
        },
        "outputId": "7a8a6717-bf68-4b5a-8bcc-92922fae949e"
      },
      "execution_count": 28,
      "outputs": [
        {
          "output_type": "stream",
          "name": "stdout",
          "text": [
            "7.3890560989306495 7.3890560989306495 7.38905609893065\n"
          ]
        }
      ]
    },
    {
      "cell_type": "markdown",
      "source": [
        "## 7 - GitHub\n",
        "\n",
        "add a link or a screen shot of the repository"
      ],
      "metadata": {
        "id": "5qXjiBWGFVve"
      }
    },
    {
      "cell_type": "markdown",
      "source": [
        "**Math 120 Homework 1 Repository**: https://github.com/caiumoua8/M120-Homework-1-.git"
      ],
      "metadata": {
        "id": "aPKV5ia6Bo3J"
      }
    }
  ],
  "metadata": {
    "kernelspec": {
      "display_name": "Python 3 (ipykernel)",
      "language": "python",
      "name": "python3"
    },
    "language_info": {
      "codemirror_mode": {
        "name": "ipython",
        "version": 3
      },
      "file_extension": ".py",
      "mimetype": "text/x-python",
      "name": "python",
      "nbconvert_exporter": "python",
      "pygments_lexer": "ipython3",
      "version": "3.9.7"
    },
    "colab": {
      "provenance": [],
      "include_colab_link": true
    }
  },
  "nbformat": 4,
  "nbformat_minor": 0
}